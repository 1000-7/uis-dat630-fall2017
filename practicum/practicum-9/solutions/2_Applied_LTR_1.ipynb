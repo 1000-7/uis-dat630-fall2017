{
 "cells": [
  {
   "cell_type": "markdown",
   "metadata": {},
   "source": [
    "## Applied LTR, Part I.\n",
    "\n",
    "Based on the previous example, apply LTR using the queries and collection from Assignment 1. (The query and qrels files to use are [here](https://github.com/kbalog/uis-dat630-fall2017/tree/master/assignment-1/data).)\n",
    "\n",
    "1. **Extract features** for all document-query pairs from the qrels (i.e., all documents with relevance assessments).\n",
    "Use the following features (all are retrieval scores that you have computed for Assignment 1; we do not apply any normalization here):  \n",
    "  - BM25 retrieval score of the query against each field (title, content)\n",
    "  - LM retrieval score of the query against each field (title, content) using Jelinek-Mercer smoothing\n",
    "  - LM retrieval score of the query against each field (title, content) using Dirichlet smoothing\n",
    "\n",
    "2. **Train and evaluate the model using 5-fold cross-validation**"
   ]
  },
  {
   "cell_type": "code",
   "execution_count": 13,
   "metadata": {
    "collapsed": true
   },
   "outputs": [],
   "source": [
    "from elasticsearch import Elasticsearch\n",
    "\n",
    "INDEX_NAME = \"aquaint\"\n",
    "DOC_TYPE = \"doc\"\n",
    "\n",
    "es = Elasticsearch()"
   ]
  },
  {
   "cell_type": "code",
   "execution_count": 8,
   "metadata": {
    "collapsed": true
   },
   "outputs": [],
   "source": [
    "QUERY_FILE = \"data/queries.txt\"  # make sure the query file exists on this location"
   ]
  },
  {
   "cell_type": "code",
   "execution_count": 9,
   "metadata": {
    "collapsed": true
   },
   "outputs": [],
   "source": [
    "OUTPUT_FILE = \"data/features.txt\"  # output the features in this file"
   ]
  },
  {
   "cell_type": "markdown",
   "metadata": {},
   "source": [
    "### Load queries"
   ]
  },
  {
   "cell_type": "code",
   "execution_count": 11,
   "metadata": {
    "collapsed": false
   },
   "outputs": [],
   "source": [
    "def load_queries(query_file):\n",
    "    queries = {}\n",
    "    with open(query_file, \"r\") as fin:\n",
    "        for line in fin.readlines():\n",
    "            qid, query = line.strip().split(\" \", 1)\n",
    "            queries[qid] = query\n",
    "    return queries\n",
    "\n",
    "queries = load_queries(QUERY_FILE)"
   ]
  },
  {
   "cell_type": "markdown",
   "metadata": {},
   "source": [
    "### Extract features for query-document pairs"
   ]
  },
  {
   "cell_type": "code",
   "execution_count": 26,
   "metadata": {
    "collapsed": false
   },
   "outputs": [],
   "source": [
    "# Each feature here is a Retrieval score obtained using a different ES configuration\n",
    "ES_CONFIG = {\n",
    "    1: {\n",
    "        \"field\": \"title\",\n",
    "        \"similarity\": {\n",
    "            \"default\": {\n",
    "                \"type\": \"BM25\", \n",
    "                \"b\": 0.75, \n",
    "                \"k1\": 1.2\n",
    "            } \n",
    "        }\n",
    "    },\n",
    "    2: {\n",
    "        \"field\": \"content\",\n",
    "        \"similarity\": {\n",
    "            \"default\": {\n",
    "                \"type\": \"BM25\", \n",
    "                \"b\": 0.75, \n",
    "                \"k1\": 1.2\n",
    "            } \n",
    "        }\n",
    "    }\n",
    "}"
   ]
  },
  {
   "cell_type": "code",
   "execution_count": 29,
   "metadata": {
    "collapsed": true
   },
   "outputs": [],
   "source": [
    "import time"
   ]
  },
  {
   "cell_type": "code",
   "execution_count": 38,
   "metadata": {
    "collapsed": false
   },
   "outputs": [
    {
     "name": "stdout",
     "output_type": "stream",
     "text": [
      "Computing values for feature # 1\n",
      "Computing values for feature # 2\n"
     ]
    }
   ],
   "source": [
    "features = {}  # features[qid][docid][fid] = value, where fid is a retrieval score\n",
    "\n",
    "for fid in range(1, len(ES_CONFIG) + 1):\n",
    "    print(\"Computing values for feature #\", fid)\n",
    "    # Set ES similarity config\n",
    "    es.indices.close(index=INDEX_NAME)\n",
    "    es.indices.put_settings(index=INDEX_NAME, body={\"similarity\": ES_CONFIG[fid][\"similarity\"]})\n",
    "    es.indices.open(index=INDEX_NAME)\n",
    "\n",
    "    time.sleep(1)  # wait until it takes effect\n",
    "\n",
    "    for qid, query in queries.items():\n",
    "        if qid not in features:\n",
    "            features[qid] = {}\n",
    "        #print(\"Ranking documents for [%s] '%s'\" % (qid, query))\n",
    "        res = es.search(index=INDEX_NAME, q=query, df=ES_CONFIG[fid][\"field\"], _source=False, size=100).get('hits', {})\n",
    "        for doc in res.get(\"hits\", {}):\n",
    "            docid = doc.get(\"_id\")\n",
    "            if docid not in features[qid]:\n",
    "                features[qid][docid] = {}\n",
    "            features[qid][docid][fid] = doc.get(\"_score\")"
   ]
  },
  {
   "cell_type": "code",
   "execution_count": 39,
   "metadata": {
    "collapsed": false
   },
   "outputs": [
    {
     "name": "stdout",
     "output_type": "stream",
     "text": [
      "{'NYT19991115.0396': {1: 21.474487, 2: 22.602192}, 'APW19990310.0063': {1: 21.474487, 2: 24.121357}, 'APW19990310.0167': {1: 21.474487, 2: 24.121357}, 'APW19990311.0166': {1: 21.474487, 2: 24.121357}, 'APW19990224.0040': {1: 21.474487, 2: 24.678314}, 'APW19990224.0042': {1: 21.474487, 2: 24.678314}, 'NYT19990310.0333': {1: 19.051239, 2: 25.083767}, 'NYT19991215.0229': {1: 19.051239, 2: 25.051338}, 'NYT19990310.0503': {1: 16.04793, 2: 24.678314}, 'NYT19991222.0420': {1: 16.04793, 2: 23.97029}, 'NYT19991216.0309': {1: 16.04793}, 'NYT19981008.0331': {1: 11.925177, 2: 18.954027}, 'APW19990624.0050': {1: 11.481674, 2: 19.768824}, 'APW19990624.0293': {1: 11.481674}, 'APW19990723.0142': {1: 11.481674}, 'APW19990723.0145': {1: 11.481674}, 'APW19990709.0230': {1: 11.481674}, 'APW19990709.0233': {1: 11.481674}, 'APW19991006.0154': {1: 11.481674, 2: 21.764845}, 'APW19991006.0285': {1: 11.481674, 2: 23.50713}, 'NYT19991223.0360': {1: 10.940688, 2: 22.846245}, 'APW19990414.0120': {1: 10.940688}, 'APW19990414.0141': {1: 10.940688}, 'APW19990414.0198': {1: 10.940688}, 'APW19991007.0315': {1: 10.940688, 2: 19.126543}, 'XIE19981010.0047': {1: 10.940688, 2: 23.373829}, 'NYT19990723.0219': {1: 10.533799}, 'NYT19980923.0372': {1: 10.533799}, 'NYT19980923.0381': {1: 10.533799}, 'APW19990516.0013': {1: 10.533799, 2: 23.84799}, 'APW19990708.0163': {1: 10.533799}, 'APW19990718.0024': {1: 10.533799, 2: 19.127758}, 'APW19990428.0195': {1: 10.533799, 2: 23.343586}, 'APW19990516.0127': {1: 10.533799, 2: 23.84799}, 'XIE20000522.0056': {1: 10.533799, 2: 25.222202}, 'XIE19990310.0214': {1: 10.533799}, 'APW20000629.0059': {1: 9.904218}, 'XIE20000322.0236': {1: 9.904218}, 'XIE19980205.0211': {1: 9.904218}, 'XIE19970807.0182': {1: 9.904218}, 'XIE19970807.0213': {1: 9.904218}, 'XIE19960504.0183': {1: 9.904218}, 'XIE19961002.0206': {1: 9.904218}, 'XIE19971226.0192': {1: 9.904218}, 'XIE19971228.0136': {1: 9.904218}, 'XIE19980928.0097': {1: 9.904218}, 'NYT19990108.0368': {1: 9.706106, 2: 19.710514}, 'NYT19991220.0383': {1: 9.706106, 2: 21.358395}, 'NYT19991206.0115': {1: 9.706106, 2: 22.506857}, 'NYT19991222.0449': {1: 9.706106, 2: 23.230427}, 'NYT19991227.0400': {1: 9.706106}, 'NYT19991213.0349': {1: 9.706106}, 'APW19990210.0167': {1: 9.706106, 2: 20.892899}, 'APW19990210.0168': {1: 9.706106, 2: 20.892899}, 'APW19990210.0356': {1: 9.706106, 2: 20.892899}, 'APW19990210.0359': {1: 9.706106, 2: 20.892899}, 'APW19990209.0343': {1: 9.706106, 2: 20.892899}, 'APW19990209.0357': {1: 9.706106, 2: 20.892899}, 'APW19990209.0359': {1: 9.706106, 2: 20.892899}, 'XIE19970211.0046': {1: 9.706106, 2: 24.707787}, 'XIE19970221.0084': {1: 9.706106, 2: 24.897825}, 'XIE19990416.0045': {1: 9.706106, 2: 21.7682}, 'NYT20000814.0277': {1: 9.345132}, 'NYT19991211.0005': {1: 9.345132}, 'NYT19991221.0351': {1: 9.345132, 2: 23.977213}, 'APW19981230.1117': {1: 9.345132}, 'APW19990729.0281': {1: 9.345132}, 'APW19990802.0258': {1: 9.345132}, 'APW19990826.0244': {1: 9.345132, 2: 23.396263}, 'XIE19980725.0041': {1: 9.345132}, 'XIE19970212.0066': {1: 9.345132}, 'XIE19961107.0188': {1: 9.345132}, 'XIE19961107.0192': {1: 9.345132}, 'XIE19960610.0087': {1: 9.345132}, 'XIE19960113.0129': {1: 9.345132}, 'XIE19961121.0310': {1: 9.345132}, 'XIE19990201.0175': {1: 9.345132}, 'XIE19990202.0076': {1: 9.345132}, 'XIE19990422.0122': {1: 9.345132}, 'NYT20000217.0312': {1: 9.086571}, 'NYT20000925.0245': {1: 9.086571}, 'APW19990703.0092': {1: 9.086571}, 'XIE20000217.0146': {1: 9.086571}, 'XIE19990819.0057': {1: 9.086571}, 'XIE19971020.0183': {1: 9.086571}, 'XIE19970830.0099': {1: 9.086571}, 'XIE19970830.0100': {1: 9.086571}, 'XIE19970831.0131': {1: 9.086571}, 'XIE19970913.0062': {1: 9.086571}, 'XIE19980118.0133': {1: 9.086571}, 'XIE19980219.0352': {1: 9.086571}, 'XIE19971015.0177': {1: 9.086571}, 'XIE19960606.0104': {1: 9.086571}, 'XIE19960524.0150': {1: 9.086571}, 'XIE19970429.0097': {1: 9.086571}, 'XIE19980304.0153': {1: 9.086571}, 'XIE19960816.0067': {1: 9.086571}, 'XIE19970904.0234': {1: 9.086571}, 'XIE19960415.0167': {1: 9.086571}, 'XIE19960712.0183': {1: 9.086571}, 'APW19990108.0103': {2: 25.80252}, 'APW19990108.0283': {2: 25.80252}, 'XIE19970211.0115': {2: 25.403767}, 'XIE19980610.0069': {2: 25.25879}, 'XIE19991228.0201': {2: 25.243622}, 'XIE19970513.0108': {2: 25.035204}, 'XIE19990109.0245': {2: 24.811453}, 'NYT20000602.0093': {2: 24.80063}, 'APW19990120.0256': {2: 24.707787}, 'XIE19961108.0181': {2: 24.387156}, 'NYT20000602.0091': {2: 24.369282}, 'NYT20000602.0092': {2: 24.369282}, 'NYT19991228.0262': {2: 24.267305}, 'APW19990519.0068': {2: 24.154335}, 'APW19990519.0070': {2: 24.154335}, 'APW19990519.0141': {2: 24.154335}, 'NYT19990107.0373': {2: 23.775532}, 'NYT19991115.0309': {2: 23.138706}, 'APW19990417.0073': {2: 22.996006}, 'APW19990417.0118': {2: 22.996006}, 'NYT19990826.0251': {2: 22.72962}, 'NYT20000210.0063': {2: 22.689709}, 'NYT19991105.0298': {2: 22.103046}, 'NYT19991219.0272': {2: 22.084389}, 'APW19990724.0076': {2: 21.834963}, 'APW19990416.0258': {2: 21.647171}, 'APW19990416.0302': {2: 21.647171}, 'APW19981008.1253': {2: 21.371449}, 'NYT19990813.0203': {2: 21.335325}, 'NYT19991215.0237': {2: 21.275282}, 'APW19990909.0053': {2: 21.219639}, 'NYT19990719.0430': {2: 21.204967}, 'NYT19991223.0308': {2: 21.131071}, 'NYT19991223.0384': {2: 21.131071}, 'NYT20000518.0275': {2: 20.882973}, 'APW19990525.0223': {2: 20.847511}, 'NYT19990211.0114': {2: 20.835052}, 'APW19980715.1061': {2: 20.714272}, 'NYT19981008.0371': {2: 20.708708}, 'NYT19990909.0337': {2: 20.566833}, 'NYT19990809.0281': {2: 20.255201}, 'NYT20000529.0117': {2: 20.146692}, 'APW19980609.1531': {2: 20.074991}, 'APW19990812.0160': {2: 20.074991}, 'NYT19990520.0073': {2: 19.79538}, 'NYT19981123.0242': {2: 19.79538}, 'NYT19990718.0148': {2: 19.637653}, 'NYT19980611.0392': {2: 19.517706}, 'APW19981020.1367': {2: 19.433428}, 'NYT19991215.0196': {2: 19.433428}, 'XIE19971008.0082': {2: 19.433428}, 'NYT20000925.0244': {2: 19.126543}, 'XIE19980306.0339': {2: 19.126543}, 'NYT19990526.0034': {2: 19.043556}, 'NYT19990607.0234': {2: 19.017807}, 'XIE19970813.0119': {2: 18.7823}, 'XIE19991116.0104': {2: 18.7823}, 'NYT19990601.0311': {2: 18.723392}, 'NYT19981228.0315': {2: 18.63826}, 'NYT19990526.0001': {2: 18.435877}, 'NYT19990525.0358': {2: 18.435877}, 'NYT19991208.0204': {2: 18.378233}}\n"
     ]
    }
   ],
   "source": [
    "print(features[\"303\"])"
   ]
  }
 ],
 "metadata": {
  "kernelspec": {
   "display_name": "Python 3",
   "language": "python",
   "name": "python3"
  },
  "language_info": {
   "codemirror_mode": {
    "name": "ipython",
    "version": 3
   },
   "file_extension": ".py",
   "mimetype": "text/x-python",
   "name": "python",
   "nbconvert_exporter": "python",
   "pygments_lexer": "ipython3",
   "version": "3.6.0"
  }
 },
 "nbformat": 4,
 "nbformat_minor": 2
}
